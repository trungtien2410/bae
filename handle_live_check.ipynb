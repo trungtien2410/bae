{
 "cells": [
  {
   "cell_type": "code",
   "execution_count": 1,
   "id": "ec3b5bab",
   "metadata": {},
   "outputs": [],
   "source": [
    "import pandas as pd\n",
    "import numpy as np\n",
    "import openpyxl\n",
    "from datetime import timedelta\n",
    "from openpyxl import Workbook"
   ]
  },
  {
   "cell_type": "code",
   "execution_count": null,
   "id": "16008979",
   "metadata": {},
   "outputs": [
    {
     "name": "stderr",
     "output_type": "stream",
     "text": [
      "C:\\Users\\vitinh\\AppData\\Local\\Temp\\ipykernel_9168\\1763625595.py:8: FutureWarning: A value is trying to be set on a copy of a DataFrame or Series through chained assignment using an inplace method.\n",
      "The behavior will change in pandas 3.0. This inplace method will never work because the intermediate object on which we are setting values always behaves as a copy.\n",
      "\n",
      "For example, when doing 'df[col].method(value, inplace=True)', try using 'df.method({col: value}, inplace=True)' or df[col] = df[col].method(value) instead, to perform the operation inplace on the original object.\n",
      "\n",
      "\n",
      "  df['registration_time'].fillna(pd.Timestamp('1970-01-01'), inplace=True)  # Thay thế giá trị NaN bằng thời gian mặc định\n"
     ]
    }
   ],
   "source": [
    "# Mục tiêu: Nhóm các bản ghi theo số điện thoại và thời gian submit trong vòng 1 giờ\n",
    "# Dữ liệu mẫu (thay thế bằng dữ liệu thực của bạn)\n",
    "data = pd.read_excel('Book1.xlsx', engine='openpyxl')\n",
    "df = pd.DataFrame(data)\n",
    "\n",
    "# Đảm bảo cột 'time' là kiểu datetime\n",
    "df['registration_time'] = pd.to_datetime(df['registration_time'])\n",
    "df['registration_time'].fillna(pd.Timestamp('1970-01-01'), inplace=True)  # Thay thế giá trị NaN bằng thời gian mặc định\n",
    "# Sắp xếp theo số điện thoại và thời gian để tối ưu hóa việc tìm kiếm\n",
    "df_sorted = df.sort_values(by=['N3', 'registration_time']).reset_index(drop=True)\n",
    "\n",
    "grouped_ids = []\n",
    "processed_indices = set()\n",
    "\n",
    "# Lặp qua từng số điện thoại duy nhất\n",
    "for phone_num in df_sorted['N3'].unique():\n",
    "    # Lấy tất cả các bản ghi cho số điện thoại này\n",
    "    phone_records = df_sorted[df_sorted['N3'] == phone_num]\n",
    "\n",
    "    # Lặp qua từng bản ghi trong nhóm số điện thoại\n",
    "    for i in range(len(phone_records)):\n",
    "        current_record = phone_records.iloc[i]\n",
    "        current_id = current_record['buyer_id']\n",
    "        current_time = current_record['registration_time']\n",
    "\n",
    "        # Nếu bản ghi này đã được xử lý trong một nhóm khác, bỏ qua\n",
    "        if (phone_num, current_id) in processed_indices:\n",
    "            continue\n",
    "\n",
    "        # Bắt đầu một nhóm mới\n",
    "        current_group_ids = [current_id]\n",
    "        current_group_phone = current_record['N3']\n",
    "\n",
    "        # Tìm các bản ghi khác trong cùng nhóm số điện thoại và trong vòng 1 giờ\n",
    "        for j in range(i + 1, len(phone_records)):\n",
    "            next_record = phone_records.iloc[j]\n",
    "            next_id = next_record['buyer_id']\n",
    "            next_time = next_record['registration_time']\n",
    "\n",
    "            # Nếu thời gian submit cách nhau trong vòng 1 giờ\n",
    "            if abs(current_time - next_time) <= timedelta(hours=1):\n",
    "                current_group_ids.append(next_id)\n",
    "                # Đánh dấu bản ghi này là đã được xử lý\n",
    "                processed_indices.add((current_group_phone, next_id))\n",
    "            else:\n",
    "                # Vì dữ liệu đã được sắp xếp, nếu khoảng thời gian vượt quá 1 giờ,\n",
    "                # thì các bản ghi tiếp theo cũng sẽ vượt quá.\n",
    "                break\n",
    "        \n",
    "        # Nếu nhóm có nhiều hơn 1 ID (tức là có ít nhất 2 ID cách nhau trong 1 giờ)\n",
    "        if len(current_group_ids) > 2:\n",
    "            grouped_ids.append({\n",
    "                'phone_number': current_group_phone,\n",
    "                'grouped_ids': sorted(list(set(current_group_ids))) # Loại bỏ trùng lặp và sắp xếp\n",
    "            })\n",
    "            # Đánh dấu ID gốc là đã được xử lý\n",
    "            processed_indices.add((current_group_phone, current_id))\n",
    "\n",
    "            \n",
    "# In kết quả\n",
    "# for group in grouped_ids:\n",
    "#     print(f\"Phone Number: {group['phone_number']}, Grouped IDs: {group['grouped_ids']}\")\n",
    "\n",
    "# saving output to an Excel file with source data and add a column for grouped IDs\n",
    "\n",
    "output_wb = Workbook()\n",
    "output_ws = output_wb.active\n",
    "output_ws.append(['Phone Number', 'Grouped IDs'])\n",
    "for group in grouped_ids:\n",
    "    output_ws.append([group['phone_number'], ', '.join(map(str, group['grouped_ids']))])\n",
    "# saving the original data with an additional column for grouped IDs\n",
    "df['grouped_ids'] = df['buyer_id'].apply(lambda x: ', '.join(\n",
    "    [str(group['grouped_ids']) for group in grouped_ids if x in group['grouped_ids']]\n",
    ") if any(x in group['grouped_ids'] for group in grouped_ids) else '')\n",
    "df.to_excel('original_data_with_grouped_ids.xlsx', index=False, engine='openpyxl')\n",
    "# saving the original data with an additional column for grouped IDs"
   ]
  }
 ],
 "metadata": {
  "kernelspec": {
   "display_name": "Python 3",
   "language": "python",
   "name": "python3"
  },
  "language_info": {
   "codemirror_mode": {
    "name": "ipython",
    "version": 3
   },
   "file_extension": ".py",
   "mimetype": "text/x-python",
   "name": "python",
   "nbconvert_exporter": "python",
   "pygments_lexer": "ipython3",
   "version": "3.12.5"
  }
 },
 "nbformat": 4,
 "nbformat_minor": 5
}
