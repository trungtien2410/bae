{
 "cells": [
  {
   "cell_type": "code",
   "execution_count": 3,
   "id": "ec3b5bab",
   "metadata": {},
   "outputs": [],
   "source": [
    "import pandas as pd\n",
    "import numpy as np\n",
    "import openpyxl\n",
    "from datetime import timedelta\n",
    "from openpyxl import Workbook"
   ]
  },
  {
   "cell_type": "code",
   "execution_count": null,
   "id": "16008979",
   "metadata": {},
   "outputs": [
    {
     "ename": "KeyError",
     "evalue": "('ip_checkout', 'create_time')",
     "output_type": "error",
     "traceback": [
      "\u001b[31m---------------------------------------------------------------------------\u001b[39m",
      "\u001b[31mKeyError\u001b[39m                                  Traceback (most recent call last)",
      "\u001b[36mFile \u001b[39m\u001b[32mc:\\Users\\tien\\AppData\\Local\\Programs\\Python\\Python312\\Lib\\site-packages\\pandas\\core\\indexes\\base.py:3805\u001b[39m, in \u001b[36mIndex.get_loc\u001b[39m\u001b[34m(self, key)\u001b[39m\n\u001b[32m   3804\u001b[39m \u001b[38;5;28;01mtry\u001b[39;00m:\n\u001b[32m-> \u001b[39m\u001b[32m3805\u001b[39m     \u001b[38;5;28;01mreturn\u001b[39;00m \u001b[38;5;28;43mself\u001b[39;49m\u001b[43m.\u001b[49m\u001b[43m_engine\u001b[49m\u001b[43m.\u001b[49m\u001b[43mget_loc\u001b[49m\u001b[43m(\u001b[49m\u001b[43mcasted_key\u001b[49m\u001b[43m)\u001b[49m\n\u001b[32m   3806\u001b[39m \u001b[38;5;28;01mexcept\u001b[39;00m \u001b[38;5;167;01mKeyError\u001b[39;00m \u001b[38;5;28;01mas\u001b[39;00m err:\n",
      "\u001b[36mFile \u001b[39m\u001b[32mindex.pyx:167\u001b[39m, in \u001b[36mpandas._libs.index.IndexEngine.get_loc\u001b[39m\u001b[34m()\u001b[39m\n",
      "\u001b[36mFile \u001b[39m\u001b[32mindex.pyx:196\u001b[39m, in \u001b[36mpandas._libs.index.IndexEngine.get_loc\u001b[39m\u001b[34m()\u001b[39m\n",
      "\u001b[36mFile \u001b[39m\u001b[32mpandas\\\\_libs\\\\hashtable_class_helper.pxi:7081\u001b[39m, in \u001b[36mpandas._libs.hashtable.PyObjectHashTable.get_item\u001b[39m\u001b[34m()\u001b[39m\n",
      "\u001b[36mFile \u001b[39m\u001b[32mpandas\\\\_libs\\\\hashtable_class_helper.pxi:7089\u001b[39m, in \u001b[36mpandas._libs.hashtable.PyObjectHashTable.get_item\u001b[39m\u001b[34m()\u001b[39m\n",
      "\u001b[31mKeyError\u001b[39m: ('ip_checkout', 'create_time')",
      "\nThe above exception was the direct cause of the following exception:\n",
      "\u001b[31mKeyError\u001b[39m                                  Traceback (most recent call last)",
      "\u001b[36mCell\u001b[39m\u001b[36m \u001b[39m\u001b[32mIn[4]\u001b[39m\u001b[32m, line 17\u001b[39m\n\u001b[32m     14\u001b[39m processed_indices = \u001b[38;5;28mset\u001b[39m()\n\u001b[32m     16\u001b[39m \u001b[38;5;66;03m# Lặp qua từng số điện thoại duy nhất\u001b[39;00m\n\u001b[32m---> \u001b[39m\u001b[32m17\u001b[39m \u001b[38;5;28;01mfor\u001b[39;00m phone_num \u001b[38;5;129;01min\u001b[39;00m \u001b[43mdf_sorted\u001b[49m\u001b[43m[\u001b[49m\u001b[33;43m'\u001b[39;49m\u001b[33;43mip_checkout\u001b[39;49m\u001b[33;43m'\u001b[39;49m\u001b[43m,\u001b[49m\u001b[33;43m'\u001b[39;49m\u001b[33;43mcreate_time\u001b[39;49m\u001b[33;43m'\u001b[39;49m\u001b[43m]\u001b[49m.unique():\n\u001b[32m     18\u001b[39m     \u001b[38;5;66;03m# Lấy tất cả các bản ghi cho số điện thoại này\u001b[39;00m\n\u001b[32m     19\u001b[39m     phone_records = df_sorted[df_sorted[\u001b[33m'\u001b[39m\u001b[33mip_checkout\u001b[39m\u001b[33m'\u001b[39m] == phone_num]\n\u001b[32m     21\u001b[39m     \u001b[38;5;66;03m# Lặp qua từng bản ghi trong nhóm số điện thoại\u001b[39;00m\n",
      "\u001b[36mFile \u001b[39m\u001b[32mc:\\Users\\tien\\AppData\\Local\\Programs\\Python\\Python312\\Lib\\site-packages\\pandas\\core\\frame.py:4102\u001b[39m, in \u001b[36mDataFrame.__getitem__\u001b[39m\u001b[34m(self, key)\u001b[39m\n\u001b[32m   4100\u001b[39m \u001b[38;5;28;01mif\u001b[39;00m \u001b[38;5;28mself\u001b[39m.columns.nlevels > \u001b[32m1\u001b[39m:\n\u001b[32m   4101\u001b[39m     \u001b[38;5;28;01mreturn\u001b[39;00m \u001b[38;5;28mself\u001b[39m._getitem_multilevel(key)\n\u001b[32m-> \u001b[39m\u001b[32m4102\u001b[39m indexer = \u001b[38;5;28;43mself\u001b[39;49m\u001b[43m.\u001b[49m\u001b[43mcolumns\u001b[49m\u001b[43m.\u001b[49m\u001b[43mget_loc\u001b[49m\u001b[43m(\u001b[49m\u001b[43mkey\u001b[49m\u001b[43m)\u001b[49m\n\u001b[32m   4103\u001b[39m \u001b[38;5;28;01mif\u001b[39;00m is_integer(indexer):\n\u001b[32m   4104\u001b[39m     indexer = [indexer]\n",
      "\u001b[36mFile \u001b[39m\u001b[32mc:\\Users\\tien\\AppData\\Local\\Programs\\Python\\Python312\\Lib\\site-packages\\pandas\\core\\indexes\\base.py:3812\u001b[39m, in \u001b[36mIndex.get_loc\u001b[39m\u001b[34m(self, key)\u001b[39m\n\u001b[32m   3807\u001b[39m     \u001b[38;5;28;01mif\u001b[39;00m \u001b[38;5;28misinstance\u001b[39m(casted_key, \u001b[38;5;28mslice\u001b[39m) \u001b[38;5;129;01mor\u001b[39;00m (\n\u001b[32m   3808\u001b[39m         \u001b[38;5;28misinstance\u001b[39m(casted_key, abc.Iterable)\n\u001b[32m   3809\u001b[39m         \u001b[38;5;129;01mand\u001b[39;00m \u001b[38;5;28many\u001b[39m(\u001b[38;5;28misinstance\u001b[39m(x, \u001b[38;5;28mslice\u001b[39m) \u001b[38;5;28;01mfor\u001b[39;00m x \u001b[38;5;129;01min\u001b[39;00m casted_key)\n\u001b[32m   3810\u001b[39m     ):\n\u001b[32m   3811\u001b[39m         \u001b[38;5;28;01mraise\u001b[39;00m InvalidIndexError(key)\n\u001b[32m-> \u001b[39m\u001b[32m3812\u001b[39m     \u001b[38;5;28;01mraise\u001b[39;00m \u001b[38;5;167;01mKeyError\u001b[39;00m(key) \u001b[38;5;28;01mfrom\u001b[39;00m\u001b[38;5;250m \u001b[39m\u001b[34;01merr\u001b[39;00m\n\u001b[32m   3813\u001b[39m \u001b[38;5;28;01mexcept\u001b[39;00m \u001b[38;5;167;01mTypeError\u001b[39;00m:\n\u001b[32m   3814\u001b[39m     \u001b[38;5;66;03m# If we have a listlike key, _check_indexing_error will raise\u001b[39;00m\n\u001b[32m   3815\u001b[39m     \u001b[38;5;66;03m#  InvalidIndexError. Otherwise we fall through and re-raise\u001b[39;00m\n\u001b[32m   3816\u001b[39m     \u001b[38;5;66;03m#  the TypeError.\u001b[39;00m\n\u001b[32m   3817\u001b[39m     \u001b[38;5;28mself\u001b[39m._check_indexing_error(key)\n",
      "\u001b[31mKeyError\u001b[39m: ('ip_checkout', 'create_time')"
     ]
    }
   ],
   "source": [
    "try:\n",
    "    data = pd.read_excel('raw.xlsx', engine='openpyxl')\n",
    "    df = pd.DataFrame(data)\n",
    "except FileNotFoundError:\n",
    "    print(\"Lỗi: Không tìm thấy file 'raw.xlsx'. Vui lòng kiểm tra đường dẫn.\")\n",
    "    exit() # Exit if file not found\n",
    "\n",
    "# Đảm bảo cột 'create_time' là kiểu datetime và xử lý NaT\n",
    "df['create_time'] = pd.to_datetime(df['create_time'], errors='coerce')\n",
    "df.dropna(subset=['create_time'], inplace=True)\n",
    "\n",
    "# Sắp xếp theo ip_checkout và create_time để tối ưu hóa việc tìm kiếm\n",
    "df_sorted = df.sort_values(by=['ip_checkout', 'create_time']).reset_index(drop=True)\n",
    "\n",
    "final_grouped_buyer_ids = set() # To store all unique buyer_ids that meet the criteria\n",
    "\n",
    "# Lặp qua từng nhóm ip_checkout duy nhất\n",
    "for ip_checkout_val, group in df_sorted.groupby('ip_checkout'):\n",
    "    # Convert group to a list of dictionaries for easier indexing and manipulation\n",
    "    # This avoids repeated .iloc[i] or .loc access on a potentially sliced DataFrame\n",
    "    records_for_ip = group.to_dict('records')\n",
    "\n",
    "    # 'i' is the starting index of the current potential group within records_for_ip\n",
    "    for i in range(len(records_for_ip)):\n",
    "        start_record = records_for_ip[i]\n",
    "        start_time = start_record['create_time']\n",
    "\n",
    "        current_potential_group_ids = [start_record['buyer_id']]\n",
    "        \n",
    "        # 'j' iterates through subsequent records to expand the current potential group\n",
    "        for j in range(i + 1, len(records_for_ip)):\n",
    "            next_record = records_for_ip[j]\n",
    "            next_time = next_record['create_time']\n",
    "            next_id = next_record['buyer_id']\n",
    "\n",
    "            # Check if the 'next_time' is within 1 hour of the 'start_time' of the current potential group\n",
    "            if (next_time - start_time) <= timedelta(hours=1):\n",
    "                current_potential_group_ids.append(next_id)\n",
    "            else:\n",
    "                # Since the data is sorted, if the time gap is too large,\n",
    "                # subsequent records will also be too far. Break from inner loop.\n",
    "                break\n",
    "        \n",
    "        # After forming a potential group (all records within 1 hour of start_time)\n",
    "        # Check if it contains at least 3 distinct buyer_ids\n",
    "        unique_ids_in_group = set(current_potential_group_ids)\n",
    "        if len(unique_ids_in_group) >= 3:\n",
    "            # Add all distinct buyer_ids from this valid group to our final set\n",
    "            final_grouped_buyer_ids.update(unique_ids_in_group)\n",
    "\n",
    "# Output the results\n",
    "if final_grouped_buyer_ids:\n",
    "    df_output_ids = pd.DataFrame(list(final_grouped_buyer_ids), columns=['buyer_id'])\n",
    "    df_output_ids\n",
    "else:\n",
    "    print(\"ℹ️ Không tìm thấy ID nào để nhóm theo tiêu chí (ít nhất 3 ID riêng biệt trong 1 giờ).\")"
   ]
  }
 ],
 "metadata": {
  "kernelspec": {
   "display_name": "Python 3",
   "language": "python",
   "name": "python3"
  },
  "language_info": {
   "codemirror_mode": {
    "name": "ipython",
    "version": 3
   },
   "file_extension": ".py",
   "mimetype": "text/x-python",
   "name": "python",
   "nbconvert_exporter": "python",
   "pygments_lexer": "ipython3",
   "version": "3.12.4"
  }
 },
 "nbformat": 4,
 "nbformat_minor": 5
}
